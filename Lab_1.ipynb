{
 "cells": [
  {
   "cell_type": "markdown",
   "metadata": {},
   "source": [
    ">- Студент: __Санжак Михаил__   \n",
    "- Группа: __ИФИмд-01-19__"
   ]
  },
  {
   "cell_type": "markdown",
   "metadata": {},
   "source": [
    "# Домашнее задание(базовое):"
   ]
  },
  {
   "cell_type": "markdown",
   "metadata": {},
   "source": [
    "## Задание 1. Обновление переменных в программной оболочке Python\n",
    "---"
   ]
  },
  {
   "cell_type": "markdown",
   "metadata": {},
   "source": [
    "Написать программу реализующую следующие действия:\n",
    "\n",
    "1. Инициализировать переменную x значением 2\n",
    "2. Прибавить 3 к x и присвоить это значение x\n",
    "3. Вычислить (x+1)/2 и присвоить это значение x\n",
    "4. Вычислить x+1/2 и присвоить это значение x \n",
    "5. Присвоить x значение значение выражения x<5 \n",
    "6. Изменить тип x в символьный и присвоить результат переменной x\n",
    "\n",
    "После каждой операции выводить значение переменной x и её тип."
   ]
  },
  {
   "cell_type": "code",
   "execution_count": 27,
   "metadata": {},
   "outputs": [
    {
     "name": "stdout",
     "output_type": "stream",
     "text": [
      "1. Value x = 2 has <class 'int'>\n",
      "\n",
      "2. Value x = 5 has <class 'int'>\n",
      "\n",
      "3. Value x = 3.000 has <class 'float'>\n",
      "\n",
      "4. Value x = 3.500 has <class 'float'>\n",
      "\n",
      "5. Value x = True has <class 'bool'>\n",
      "\n",
      "6. Value x = True has <class 'str'>\n",
      "\n"
     ]
    }
   ],
   "source": [
    "\"\"\"\n",
    "    Решение\n",
    "    \n",
    "\"\"\"\n",
    "\n",
    "x = 2\n",
    "print(\"1. Value x = %d has %s\\n\" % (x, type(x)))\n",
    "\n",
    "x += 3\n",
    "print(\"2. Value x = %d has %s\\n\" % (x, type(x)))\n",
    "\n",
    "x = (x + 1) / 2\n",
    "print(\"3. Value x = %.3f has %s\\n\" % (x, type(x)))\n",
    "\n",
    "x = x + .5\n",
    "print(\"4. Value x = %.3f has %s\\n\" % (x, type(x)))\n",
    "\n",
    "x = x < 5\n",
    "print(\"5. Value x = %s has %s\\n\" % (x, type(x)))\n",
    "\n",
    "x = \"%s\" %x\n",
    "print(\"6. Value x = %s has %s\\n\" % (x, type(x)))"
   ]
  },
  {
   "cell_type": "markdown",
   "metadata": {},
   "source": [
    "## Задание 2. Среднее значение целых чисел\n",
    "---"
   ]
  },
  {
   "cell_type": "markdown",
   "metadata": {},
   "source": [
    "Написать программу (сценарий), сохраняющую сумму 1+2+3+4+5 в одну переменную, затем создающую другую переменную, содержащую среднее значение этих пяти чисел. Вывести фразу \"Среднее значение этих 5 чисел равно\" и результат работы с точностью до 5 знака после точки (т.е. до 1/100000)."
   ]
  },
  {
   "cell_type": "code",
   "execution_count": 31,
   "metadata": {},
   "outputs": [
    {
     "name": "stdout",
     "output_type": "stream",
     "text": [
      "Среднее значение этих пяти чисел равно 3.00000\n"
     ]
    }
   ],
   "source": [
    "\"\"\"\n",
    "    Решение\n",
    "\n",
    "\"\"\"\n",
    "\n",
    "sum = 1 + 2 + 3 + 4 + 5\n",
    "average_value = sum / 5\n",
    "\n",
    "print(\"Среднее значение этих пяти чисел равно %.5f\" % average_value)"
   ]
  },
  {
   "cell_type": "markdown",
   "metadata": {},
   "source": [
    "## Задание 3. Интерактивное вычисление среднего\n",
    "---"
   ]
  },
  {
   "cell_type": "markdown",
   "metadata": {},
   "source": [
    "Добавьте в программу из предыдущего задания запрос на добавление ещё однонго числа к подсчёту среднего с помощью запуска интерактивной сессии функцией input(). После введения каждого нового числа пересчитывать и выводить резёльтата в формате: \"Среднее значение этих (число чисел) чисел равно\" и результат работы с точностью до 5 знака после точки (т.е. до 1/100000). Интерактивная сессия заканчивается после введения пользователем 0."
   ]
  },
  {
   "cell_type": "code",
   "execution_count": 1,
   "metadata": {},
   "outputs": [
    {
     "name": "stdout",
     "output_type": "stream",
     "text": [
      "Добавьте число к подсчету среднего: df\n",
      "\n",
      "\tВы ввели !число. Введите число.\n",
      "Добавьте число к подсчету среднего: 34d\n",
      "\n",
      "\tВы ввели !число. Введите число.\n",
      "Добавьте число к подсчету среднего: \n",
      "\n",
      "\tВы ввели !число. Введите число.\n",
      "Добавьте число к подсчету среднего: 455\n",
      "Среднее значение этих пяти чисел равно 78.33333\n"
     ]
    }
   ],
   "source": [
    "\"\"\"\n",
    "    Решение\n",
    "    \n",
    "\"\"\"\n",
    "\n",
    "sum = 1 + 2 + 3 + 4 + 5\n",
    "\n",
    "while 1:\n",
    "    try: \n",
    "        new_value = float(input(\"Добавьте число к подсчету среднего: \"))     \n",
    "        average_value = (sum + new_value) / 6\n",
    "        print(\"Среднее значение этих пяти чисел равно %.5f\" % average_value)\n",
    "            \n",
    "        break\n",
    "    except:\n",
    "        # Попадаем в этот блок, если float() не может преобразовать\n",
    "        # к требуемому типу. По этой причине не производится проверка на тип\n",
    "        # при помощи if-else statement\n",
    "        print(\"\\n\\tВы ввели !число. Введите число.\")"
   ]
  },
  {
   "cell_type": "markdown",
   "metadata": {},
   "source": [
    "## Задание 4. \"Число и цифра\""
   ]
  },
  {
   "cell_type": "markdown",
   "metadata": {},
   "source": [
    "Запросите у пользователя целое число и сложите цифры этого числа. Повторяйте последнее действие столько раз сколько сможете и выводите каждый раз полученную сумму."
   ]
  },
  {
   "cell_type": "code",
   "execution_count": 3,
   "metadata": {},
   "outputs": [
    {
     "name": "stdout",
     "output_type": "stream",
     "text": [
      "Введите целое число: 55\n",
      "55 <class 'int'>\n",
      "----------------\n",
      "before: 55\n",
      "after: 5\n",
      "----------------\n",
      "before: 5\n",
      "after: 0\n",
      "Сумма цифр числа 0 равна 10\n"
     ]
    }
   ],
   "source": [
    "\"\"\"\n",
    "    Решение\n",
    "    \n",
    "\"\"\"\n",
    "\n",
    "while 1:\n",
    "    try:\n",
    "        user_input = int(input(\"Введите целое число: \"))\n",
    "        sum = 0\n",
    "        \n",
    "        print(user_input, type(user_input))\n",
    "        \n",
    "        while user_input != 0:\n",
    "            sum += user_input % 10\n",
    "            # Да, в Python классная арифметика :)\n",
    "            user_input = int(user_input / 10)\n",
    "        \n",
    "        print(\"Сумма цифр числа %d равна %d\" % (user_input, sum))\n",
    "        break\n",
    "    except:\n",
    "        print(\"\\n\\tВы ввели !целое число. Введите целое число.\")"
   ]
  },
  {
   "cell_type": "code",
   "execution_count": 1,
   "metadata": {},
   "outputs": [
    {
     "ename": "TypeError",
     "evalue": "'int' object is not iterable",
     "output_type": "error",
     "traceback": [
      "\u001b[0;31m---------------------------------------------------------------------------\u001b[0m",
      "\u001b[0;31mTypeError\u001b[0m                                 Traceback (most recent call last)",
      "\u001b[0;32m<ipython-input-1-a13e753b8fb1>\u001b[0m in \u001b[0;36m<module>\u001b[0;34m()\u001b[0m\n\u001b[0;32m----> 1\u001b[0;31m \u001b[0;32mfor\u001b[0m \u001b[0mi\u001b[0m \u001b[0;32min\u001b[0m \u001b[0;36m4456\u001b[0m\u001b[0;34m:\u001b[0m\u001b[0;34m\u001b[0m\u001b[0;34m\u001b[0m\u001b[0m\n\u001b[0m\u001b[1;32m      2\u001b[0m     \u001b[0mprint\u001b[0m\u001b[0;34m(\u001b[0m\u001b[0mi\u001b[0m\u001b[0;34m)\u001b[0m\u001b[0;34m\u001b[0m\u001b[0;34m\u001b[0m\u001b[0m\n",
      "\u001b[0;31mTypeError\u001b[0m: 'int' object is not iterable"
     ]
    }
   ],
   "source": [
    "for  in 4456:\n",
    "    print(i)"
   ]
  }
 ],
 "metadata": {
  "kernelspec": {
   "display_name": "Python 3",
   "language": "python",
   "name": "python3"
  }
 },
 "nbformat": 4,
 "nbformat_minor": 2
}
