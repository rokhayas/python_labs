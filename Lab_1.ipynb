{
 "cells": [
  {
   "cell_type": "markdown",
   "metadata": {},
   "source": [
    "# Домашнее задание(базовое):"
   ]
  },
  {
   "cell_type": "markdown",
   "metadata": {},
   "source": [
    "## Задание 1. Обновление переменных в программной оболочке Python"
   ]
  },
  {
   "cell_type": "markdown",
   "metadata": {},
   "source": [
    "Написать программу реализующую следующие действия:\n",
    "\n",
    "1. Инициализировать переменную x значением 2\n",
    "2. Прибавить 3 к x и присвоить это значение x\n",
    "3. Вычислить (x+1)/2 и присвоить это значение x\n",
    "4. Вычислить x+1/2 и присвоить это значение x \n",
    "5. Присвоить x значение значение выражения x<5 \n",
    "6. Изменить тип x в символьный и присвоить результат переменной x\n",
    "\n",
    "После каждой операции выводить значение переменной x и её тип."
   ]
  },
  {
   "cell_type": "code",
   "execution_count": 25,
   "metadata": {},
   "outputs": [
    {
     "name": "stdout",
     "output_type": "stream",
     "text": [
      "1. Value x = 2 has <class 'int'>\n",
      "\n",
      "2. Value x = 5 has <class 'int'>\n",
      "\n",
      "3. Value x = 3.000 has <class 'float'>\n",
      "\n",
      "4. Value x = 3.500 has <class 'float'>\n",
      "\n",
      "5. Value x = True has <class 'bool'>\n",
      "\n",
      "6. Value x = True has <class 'str'>\n",
      "\n"
     ]
    }
   ],
   "source": [
    "\"\"\"\n",
    "    Решение\n",
    "    \n",
    "    V. 1\n",
    "\"\"\"\n",
    "\n",
    "x = 2\n",
    "print(\"1. Value x = %d has %s\\n\" % (x, type(x)))\n",
    "\n",
    "x += 3\n",
    "print(\"2. Value x = %d has %s\\n\" % (x, type(x)))\n",
    "\n",
    "x = (x + 1) / 2\n",
    "print(\"3. Value x = %.3f has %s\\n\" % (x, type(x)))\n",
    "\n",
    "x = x + .5\n",
    "print(\"4. Value x = %.3f has %s\\n\" % (x, type(x)))\n",
    "\n",
    "x = x < 5\n",
    "print(\"5. Value x = %s has %s\\n\" % (x, type(x)))\n",
    "\n",
    "x = \"%s\" %x\n",
    "print(\"6. Value x = %s has %s\\n\" % (x, type(x)))"
   ]
  }
 ],
 "metadata": {
  "kernelspec": {
   "display_name": "Python 3",
   "language": "python",
   "name": "python3"
  },
  "language_info": {
   "codemirror_mode": {
    "name": "ipython",
    "version": 3
   },
   "file_extension": ".py",
   "mimetype": "text/x-python",
   "name": "python",
   "nbconvert_exporter": "python",
   "pygments_lexer": "ipython3",
   "version": "3.7.3"
  }
 },
 "nbformat": 4,
 "nbformat_minor": 2
}
