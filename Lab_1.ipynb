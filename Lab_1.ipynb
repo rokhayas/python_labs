{
 "cells": [
  {
   "cell_type": "markdown",
   "metadata": {},
   "source": [
    ">- Студент: __Санжак Михаил__   \n",
    "- Группа: __ИФИмд-01-19__"
   ]
  },
  {
   "cell_type": "markdown",
   "metadata": {},
   "source": [
    "# Домашнее задание(базовое):"
   ]
  },
  {
   "cell_type": "markdown",
   "metadata": {},
   "source": [
    "## Задание 1. Обновление переменных в программной оболочке Python\n",
    "---"
   ]
  },
  {
   "cell_type": "markdown",
   "metadata": {},
   "source": [
    "Написать программу реализующую следующие действия:\n",
    "\n",
    "1. Инициализировать переменную x значением 2\n",
    "2. Прибавить 3 к x и присвоить это значение x\n",
    "3. Вычислить (x+1)/2 и присвоить это значение x\n",
    "4. Вычислить x+1/2 и присвоить это значение x \n",
    "5. Присвоить x значение значение выражения x<5 \n",
    "6. Изменить тип x в символьный и присвоить результат переменной x\n",
    "\n",
    "После каждой операции выводить значение переменной x и её тип."
   ]
  },
  {
   "cell_type": "code",
   "execution_count": 27,
   "metadata": {},
   "outputs": [
    {
     "name": "stdout",
     "output_type": "stream",
     "text": [
      "1. Value x = 2 has <class 'int'>\n",
      "\n",
      "2. Value x = 5 has <class 'int'>\n",
      "\n",
      "3. Value x = 3.000 has <class 'float'>\n",
      "\n",
      "4. Value x = 3.500 has <class 'float'>\n",
      "\n",
      "5. Value x = True has <class 'bool'>\n",
      "\n",
      "6. Value x = True has <class 'str'>\n",
      "\n"
     ]
    }
   ],
   "source": [
    "\"\"\"\n",
    "    Решение\n",
    "    \n",
    "\"\"\"\n",
    "\n",
    "x = 2\n",
    "print(\"1. Value x = %d has %s\\n\" % (x, type(x)))\n",
    "\n",
    "x += 3\n",
    "print(\"2. Value x = %d has %s\\n\" % (x, type(x)))\n",
    "\n",
    "x = (x + 1) / 2\n",
    "print(\"3. Value x = %.3f has %s\\n\" % (x, type(x)))\n",
    "\n",
    "x = x + .5\n",
    "print(\"4. Value x = %.3f has %s\\n\" % (x, type(x)))\n",
    "\n",
    "x = x < 5\n",
    "print(\"5. Value x = %s has %s\\n\" % (x, type(x)))\n",
    "\n",
    "x = \"%s\" %x\n",
    "print(\"6. Value x = %s has %s\\n\" % (x, type(x)))"
   ]
  },
  {
   "cell_type": "markdown",
   "metadata": {},
   "source": [
    "## Задание 2. Среднее значение целых чисел\n",
    "---"
   ]
  },
  {
   "cell_type": "markdown",
   "metadata": {},
   "source": [
    "Написать программу (сценарий), сохраняющую сумму 1+2+3+4+5 в одну переменную, затем создающую другую переменную, содержащую среднее значение этих пяти чисел. Вывести фразу \"Среднее значение этих 5 чисел равно\" и результат работы с точностью до 5 знака после точки (т.е. до 1/100000)."
   ]
  },
  {
   "cell_type": "code",
   "execution_count": 31,
   "metadata": {},
   "outputs": [
    {
     "name": "stdout",
     "output_type": "stream",
     "text": [
      "Среднее значение этих пяти чисел равно 3.00000\n"
     ]
    }
   ],
   "source": [
    "\"\"\"\n",
    "    Решение\n",
    "\n",
    "\"\"\"\n",
    "\n",
    "sum = 1 + 2 + 3 + 4 + 5\n",
    "average_value = sum / 5\n",
    "\n",
    "print(\"Среднее значение этих пяти чисел равно %.5f\" % average_value)"
   ]
  },
  {
   "cell_type": "markdown",
   "metadata": {},
   "source": [
    "## Задание 3. Интерактивное вычисление среднего\n",
    "---"
   ]
  },
  {
   "cell_type": "markdown",
   "metadata": {},
   "source": [
    "Добавьте в программу из предыдущего задания запрос на добавление ещё однонго числа к подсчёту среднего с помощью запуска интерактивной сессии функцией input(). После введения каждого нового числа пересчитывать и выводить резёльтата в формате: \"Среднее значение этих (число чисел) чисел равно\" и результат работы с точностью до 5 знака после точки (т.е. до 1/100000). Интерактивная сессия заканчивается после введения пользователем 0."
   ]
  },
  {
   "cell_type": "code",
   "execution_count": 1,
   "metadata": {},
   "outputs": [
    {
     "name": "stdout",
     "output_type": "stream",
     "text": [
      "Добавьте число к подсчету среднего: df\n",
      "\n",
      "\tВы ввели !число. Введите число.\n",
      "Добавьте число к подсчету среднего: 34d\n",
      "\n",
      "\tВы ввели !число. Введите число.\n",
      "Добавьте число к подсчету среднего: \n",
      "\n",
      "\tВы ввели !число. Введите число.\n",
      "Добавьте число к подсчету среднего: 455\n",
      "Среднее значение этих пяти чисел равно 78.33333\n"
     ]
    }
   ],
   "source": [
    "\"\"\"\n",
    "    Решение\n",
    "    \n",
    "\"\"\"\n",
    "\n",
    "sum = 1 + 2 + 3 + 4 + 5\n",
    "\n",
    "while 1:\n",
    "    try: \n",
    "        new_value = float(input(\"Добавьте число к подсчету среднего: \"))     \n",
    "        average_value = (sum + new_value) / 6\n",
    "        print(\"Среднее значение этих пяти чисел равно %.5f\" % average_value)\n",
    "            \n",
    "        break\n",
    "    except:\n",
    "        # Попадаем в этот блок, если float() не может преобразовать\n",
    "        # к требуемому типу. По этой причине не производится проверка на тип\n",
    "        # при помощи if-else statement\n",
    "        print(\"\\n\\tВы ввели !число. Введите число.\")"
   ]
  },
  {
   "cell_type": "markdown",
   "metadata": {},
   "source": [
    "## Задание 4. \"Число и цифра\"\n",
    "---"
   ]
  },
  {
   "cell_type": "markdown",
   "metadata": {},
   "source": [
    "Запросите у пользователя целое число и сложите цифры этого числа. Повторяйте последнее действие столько раз сколько сможете и выводите каждый раз полученную сумму."
   ]
  },
  {
   "cell_type": "code",
   "execution_count": 7,
   "metadata": {},
   "outputs": [
    {
     "name": "stdout",
     "output_type": "stream",
     "text": [
      "Введите целое число: 34sd\n",
      "\n",
      "\tВы ввели !целое число. Введите целое число.\n",
      "Введите целое число: 43.4\n",
      "\n",
      "\tВы ввели !целое число. Введите целое число.\n",
      "Введите целое число: 343\n",
      "Сумма цифр числа 0 равна 10\n"
     ]
    }
   ],
   "source": [
    "\"\"\"\n",
    "    Решение\n",
    "    \n",
    "\"\"\"\n",
    "\n",
    "while 1:\n",
    "    try:\n",
    "        user_input = int(input(\"Введите целое число: \"))\n",
    "        sum = 0\n",
    "        \n",
    "        while user_input != 0:\n",
    "            sum += user_input % 10\n",
    "            # Да, в Python классная арифметика :)\n",
    "            user_input = int(user_input / 10)\n",
    "        \n",
    "        print(\"Сумма цифр числа %d равна %d\" % (user_input, sum))\n",
    "        break\n",
    "    except:\n",
    "        print(\"\\n\\tВы ввели !целое число. Введите целое число.\")"
   ]
  },
  {
   "cell_type": "markdown",
   "metadata": {},
   "source": [
    "## Задание 5. \"Максимум и минимум\"\n",
    "---"
   ]
  },
  {
   "cell_type": "markdown",
   "metadata": {},
   "source": [
    "Запрашивайте у пользователя числа, определяйте максимальное и минимальной из всех полученных чисел и сообщайте их ему."
   ]
  },
  {
   "cell_type": "code",
   "execution_count": null,
   "metadata": {},
   "outputs": [],
   "source": [
    "\"\"\"\n",
    "    Решение\n",
    "    \n",
    "\"\"\"\n",
    "max_value = -100000000000000000000000000\n",
    "\n",
    "while 1:\n",
    "    try:\n",
    "        user_input = float(input(\"Введите число\\n\"))\n",
    "        \n",
    "        if user_input > max_value:\n",
    "            max_value = user_input\n",
    "\n",
    "        print(\"Максимальное число введенное вами число %.4f: \" % (max_value))\n",
    "    except:\n",
    "        print(\"Вы ввели !число\")"
   ]
  },
  {
   "cell_type": "markdown",
   "metadata": {},
   "source": [
    "## Задание 6. Следующее чётное\n",
    "---"
   ]
  },
  {
   "cell_type": "markdown",
   "metadata": {},
   "source": [
    "Запрашивайте у пользователя целое число N. Выведите следующее за ним четное число."
   ]
  },
  {
   "cell_type": "code",
   "execution_count": null,
   "metadata": {},
   "outputs": [],
   "source": [
    "\"\"\"\n",
    "    Решение\n",
    "\n",
    "\"\"\"\n",
    "\n",
    "try:\n",
    "    n = int(input(\"Введите целое число: \"))\n",
    "    next_even_number = n + int(not bool(n % 2)) + int(not bool(n % 2)) + int(bool(n % 2))\n",
    "    print(\"Следующее четное число за %d это %d\" % (n, next_even_number))\n",
    "except:\n",
    "    print(\"Вы ввели !целое число. Перезапустите программу\")"
   ]
  },
  {
   "cell_type": "markdown",
   "metadata": {},
   "source": [
    "## Задание 7. МКАД\n",
    "---"
   ]
  },
  {
   "cell_type": "markdown",
   "metadata": {},
   "source": [
    "Длина Московской кольцевой автомобильной дороги — 109 километров. Байкер Вася стартует с нулевого километра МКАД и едет со скоростью v километров в час. На какой отметке он остановится через t часов?\n",
    "Программа получает на вход значение v и t. Если v>0, то Вася движется в положительном направлении по МКАД, если же значение v<0, то в отрицательном. \n",
    "Программа должна вывести целое число от 0 до 108 — номер отметки, на которой остановится Вася."
   ]
  },
  {
   "cell_type": "code",
   "execution_count": 3,
   "metadata": {},
   "outputs": [
    {
     "name": "stdout",
     "output_type": "stream",
     "text": [
      "Введите v343\n",
      "Введите t56\n",
      "24.0\n"
     ]
    }
   ],
   "source": [
    "\"\"\"\n",
    "    Решение\n",
    "\n",
    "\"\"\"\n",
    "\n",
    "m_l = 109\n",
    "\n",
    "try:\n",
    "    v = float(input(\"Введите v\"))\n",
    "    t = float(input(\"Введите t\"))\n",
    "    s = v * t\n",
    "\n",
    "    if v > 0:\n",
    "        km = s % m_l\n",
    "    else:\n",
    "        km = m_l - abs(s % m_l)\n",
    "    print(km)\n",
    "except:\n",
    "    print(\"Должны вводиться числа\")"
   ]
  }
 ],
 "metadata": {
  "kernelspec": {
   "display_name": "Python 3",
   "language": "python",
   "name": "python3"
  },
  "language_info": {
   "codemirror_mode": {
    "name": "ipython",
    "version": 3
   },
   "file_extension": ".py",
   "mimetype": "text/x-python",
   "name": "python",
   "nbconvert_exporter": "python",
   "pygments_lexer": "ipython3",
   "version": "3.7.3"
  }
 },
 "nbformat": 4,
 "nbformat_minor": 2
}
